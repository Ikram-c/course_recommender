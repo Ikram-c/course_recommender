{
 "cells": [
  {
   "cell_type": "code",
   "execution_count": 4,
   "metadata": {},
   "outputs": [],
   "source": [
    "import pandas as pd\n",
    "\n",
    "#course_embeddings\n",
    "course_embeddings = pd.read_csv('course_embeddings.csv')\n",
    "#course_genre\n",
    "course_genre = pd.read_csv('course_genre.csv')\n",
    "#course_processed\n",
    "course_processed = pd.read_csv('course_processed.csv')\n",
    "#course_ratings\n",
    "course_ratings = pd.read_csv('course_ratings.csv')\n",
    "#courses_bows\n",
    "courses_bows = pd.read_csv('courses_bows.csv')\n",
    "#ratings\n",
    "ratings = pd.read_csv('ratings.csv')\n",
    "#rs_content_test\n",
    "rs_content_test = pd.read_csv('rs_content_test.csv')\n",
    "#sim\n",
    "sim = pd.read_csv('sim.csv')\n",
    "#user_embeddings\n",
    "user_embeddings = pd.read_csv('user_embeddings.csv')\n",
    "#user_profile\n",
    "user_profile = pd.read_csv('user_profile.csv')"
   ]
  },
  {
   "cell_type": "code",
   "execution_count": 5,
   "metadata": {},
   "outputs": [
    {
     "name": "stdout",
     "output_type": "stream",
     "text": [
      "course_embeddings columns:  ['item', 'CFeature0', 'CFeature1', 'CFeature2', 'CFeature3', 'CFeature4', 'CFeature5', 'CFeature6', 'CFeature7', 'CFeature8', 'CFeature9', 'CFeature10', 'CFeature11', 'CFeature12', 'CFeature13', 'CFeature14', 'CFeature15']\n"
     ]
    }
   ],
   "source": [
    "#course_embeddings\n",
    "course_embeddings = pd.read_csv('course_embeddings.csv')\n",
    "course_embeddings_columns = list(course_embeddings.columns)\n",
    "print(\"course_embeddings columns: \", course_embeddings_columns)"
   ]
  },
  {
   "cell_type": "code",
   "execution_count": 29,
   "metadata": {},
   "outputs": [
    {
     "name": "stdout",
     "output_type": "stream",
     "text": [
      "item           object\n",
      "CFeature0     float64\n",
      "CFeature1     float64\n",
      "CFeature2     float64\n",
      "CFeature3     float64\n",
      "CFeature4     float64\n",
      "CFeature5     float64\n",
      "CFeature6     float64\n",
      "CFeature7     float64\n",
      "CFeature8     float64\n",
      "CFeature9     float64\n",
      "CFeature10    float64\n",
      "CFeature11    float64\n",
      "CFeature12    float64\n",
      "CFeature13    float64\n",
      "CFeature14    float64\n",
      "CFeature15    float64\n",
      "dtype: object\n"
     ]
    }
   ],
   "source": [
    "print(course_embeddings.dtypes)"
   ]
  },
  {
   "cell_type": "code",
   "execution_count": 6,
   "metadata": {},
   "outputs": [
    {
     "name": "stdout",
     "output_type": "stream",
     "text": [
      "course_genre columns:  ['COURSE_ID', 'TITLE', 'Database', 'Python', 'CloudComputing', 'DataAnalysis', 'Containers', 'MachineLearning', 'ComputerVision', 'DataScience', 'BigData', 'Chatbot', 'R', 'BackendDev', 'FrontendDev', 'Blockchain']\n"
     ]
    }
   ],
   "source": [
    "#course_genre\n",
    "course_genre = pd.read_csv('course_genre.csv')\n",
    "course_genre_columns = list(course_genre.columns)\n",
    "print(\"course_genre columns: \", course_genre_columns)"
   ]
  },
  {
   "cell_type": "code",
   "execution_count": 38,
   "metadata": {},
   "outputs": [
    {
     "data": {
      "text/plain": [
       "COURSE_ID          object\n",
       "TITLE              object\n",
       "Database            int64\n",
       "Python              int64\n",
       "CloudComputing      int64\n",
       "DataAnalysis        int64\n",
       "Containers          int64\n",
       "MachineLearning     int64\n",
       "ComputerVision      int64\n",
       "DataScience         int64\n",
       "BigData             int64\n",
       "Chatbot             int64\n",
       "R                   int64\n",
       "BackendDev          int64\n",
       "FrontendDev         int64\n",
       "Blockchain          int64\n",
       "dtype: object"
      ]
     },
     "execution_count": 38,
     "metadata": {},
     "output_type": "execute_result"
    }
   ],
   "source": [
    "course_genre.dtypes"
   ]
  },
  {
   "cell_type": "code",
   "execution_count": 7,
   "metadata": {},
   "outputs": [
    {
     "name": "stdout",
     "output_type": "stream",
     "text": [
      "course_processed columns:  ['COURSE_ID', 'TITLE', 'DESCRIPTION']\n"
     ]
    }
   ],
   "source": [
    "#course_processed\n",
    "course_processed = pd.read_csv('course_processed.csv')\n",
    "course_processed_columns = list(course_processed.columns)\n",
    "print(\"course_processed columns: \", course_processed_columns)"
   ]
  },
  {
   "cell_type": "code",
   "execution_count": 37,
   "metadata": {},
   "outputs": [
    {
     "data": {
      "text/plain": [
       "COURSE_ID      object\n",
       "TITLE          object\n",
       "DESCRIPTION    object\n",
       "dtype: object"
      ]
     },
     "execution_count": 37,
     "metadata": {},
     "output_type": "execute_result"
    }
   ],
   "source": [
    "course_processed.dtypes"
   ]
  },
  {
   "cell_type": "code",
   "execution_count": 8,
   "metadata": {},
   "outputs": [
    {
     "name": "stdout",
     "output_type": "stream",
     "text": [
      "course_ratings columns:  ['user', 'item', 'rating']\n"
     ]
    }
   ],
   "source": [
    "#course_ratings\n",
    "course_ratings = pd.read_csv('course_ratings.csv')\n",
    "course_ratings_columns = list(course_ratings.columns)\n",
    "print(\"course_ratings columns: \", course_ratings_columns)"
   ]
  },
  {
   "cell_type": "code",
   "execution_count": 36,
   "metadata": {},
   "outputs": [
    {
     "data": {
      "text/html": [
       "<div>\n",
       "<style scoped>\n",
       "    .dataframe tbody tr th:only-of-type {\n",
       "        vertical-align: middle;\n",
       "    }\n",
       "\n",
       "    .dataframe tbody tr th {\n",
       "        vertical-align: top;\n",
       "    }\n",
       "\n",
       "    .dataframe thead th {\n",
       "        text-align: right;\n",
       "    }\n",
       "</style>\n",
       "<table border=\"1\" class=\"dataframe\">\n",
       "  <thead>\n",
       "    <tr style=\"text-align: right;\">\n",
       "      <th></th>\n",
       "      <th>user</th>\n",
       "      <th>item</th>\n",
       "      <th>rating</th>\n",
       "    </tr>\n",
       "  </thead>\n",
       "  <tbody>\n",
       "    <tr>\n",
       "      <th>0</th>\n",
       "      <td>1889878</td>\n",
       "      <td>CC0101EN</td>\n",
       "      <td>3.0</td>\n",
       "    </tr>\n",
       "    <tr>\n",
       "      <th>1</th>\n",
       "      <td>1342067</td>\n",
       "      <td>CL0101EN</td>\n",
       "      <td>3.0</td>\n",
       "    </tr>\n",
       "    <tr>\n",
       "      <th>2</th>\n",
       "      <td>1990814</td>\n",
       "      <td>ML0120ENv3</td>\n",
       "      <td>3.0</td>\n",
       "    </tr>\n",
       "    <tr>\n",
       "      <th>3</th>\n",
       "      <td>380098</td>\n",
       "      <td>BD0211EN</td>\n",
       "      <td>3.0</td>\n",
       "    </tr>\n",
       "    <tr>\n",
       "      <th>4</th>\n",
       "      <td>779563</td>\n",
       "      <td>DS0101EN</td>\n",
       "      <td>3.0</td>\n",
       "    </tr>\n",
       "  </tbody>\n",
       "</table>\n",
       "</div>"
      ],
      "text/plain": [
       "      user        item  rating\n",
       "0  1889878    CC0101EN     3.0\n",
       "1  1342067    CL0101EN     3.0\n",
       "2  1990814  ML0120ENv3     3.0\n",
       "3   380098    BD0211EN     3.0\n",
       "4   779563    DS0101EN     3.0"
      ]
     },
     "execution_count": 36,
     "metadata": {},
     "output_type": "execute_result"
    }
   ],
   "source": [
    "course_ratings.head()"
   ]
  },
  {
   "cell_type": "code",
   "execution_count": 31,
   "metadata": {},
   "outputs": [
    {
     "data": {
      "text/plain": [
       "user        int64\n",
       "item       object\n",
       "rating    float64\n",
       "dtype: object"
      ]
     },
     "execution_count": 31,
     "metadata": {},
     "output_type": "execute_result"
    }
   ],
   "source": [
    "course_ratings.dtypes"
   ]
  },
  {
   "cell_type": "code",
   "execution_count": null,
   "metadata": {},
   "outputs": [],
   "source": []
  },
  {
   "cell_type": "code",
   "execution_count": 9,
   "metadata": {},
   "outputs": [
    {
     "name": "stdout",
     "output_type": "stream",
     "text": [
      "courses_bows columns:  ['doc_index', 'doc_id', 'token', 'bow']\n"
     ]
    }
   ],
   "source": [
    "#courses_bows\n",
    "courses_bows = pd.read_csv('courses_bows.csv')\n",
    "courses_bows_columns = list(courses_bows.columns)\n",
    "print(\"courses_bows columns: \", courses_bows_columns)"
   ]
  },
  {
   "cell_type": "code",
   "execution_count": 10,
   "metadata": {},
   "outputs": [
    {
     "name": "stdout",
     "output_type": "stream",
     "text": [
      "ratings columns:  ['user', 'item', 'rating']\n"
     ]
    }
   ],
   "source": [
    "#ratings\n",
    "ratings = pd.read_csv('ratings.csv')\n",
    "ratings_columns = list(ratings.columns)\n",
    "print(\"ratings columns: \", ratings_columns)"
   ]
  },
  {
   "cell_type": "code",
   "execution_count": 11,
   "metadata": {},
   "outputs": [
    {
     "name": "stdout",
     "output_type": "stream",
     "text": [
      "rs_content_test columns:  ['user', 'item', 'rating']\n"
     ]
    }
   ],
   "source": [
    "#rs_content_test\n",
    "rs_content_test = pd.read_csv('rs_content_test.csv')\n",
    "rs_content_test_columns = list(rs_content_test.columns)\n",
    "print(\"rs_content_test columns: \", rs_content_test_columns)"
   ]
  },
  {
   "cell_type": "code",
   "execution_count": 33,
   "metadata": {},
   "outputs": [
    {
     "data": {
      "text/plain": [
       "user        int64\n",
       "item       object\n",
       "rating    float64\n",
       "dtype: object"
      ]
     },
     "execution_count": 33,
     "metadata": {},
     "output_type": "execute_result"
    }
   ],
   "source": [
    "rs_content_test.dtypes"
   ]
  },
  {
   "cell_type": "code",
   "execution_count": 34,
   "metadata": {},
   "outputs": [
    {
     "data": {
      "text/plain": [
       "<bound method DataFrame.info of            user        item  rating\n",
       "0       1889878    CC0101EN     3.0\n",
       "1       1342067    CL0101EN     3.0\n",
       "2       1990814  ML0120ENv3     3.0\n",
       "3        380098    BD0211EN     3.0\n",
       "4        779563    DS0101EN     3.0\n",
       "...         ...         ...     ...\n",
       "233301  1540125    DS0101EN     3.0\n",
       "233302  1250651    PY0101EN     3.0\n",
       "233303  1003832  CB0105ENv1     3.0\n",
       "233304   922065    BD0141EN     3.0\n",
       "233305  1596120    DS0301EN     3.0\n",
       "\n",
       "[233306 rows x 3 columns]>"
      ]
     },
     "execution_count": 34,
     "metadata": {},
     "output_type": "execute_result"
    }
   ],
   "source": [
    "ratings.info"
   ]
  },
  {
   "cell_type": "code",
   "execution_count": 35,
   "metadata": {},
   "outputs": [
    {
     "data": {
      "text/plain": [
       "<bound method DataFrame.info of          user       item  rating\n",
       "0     1502801   RP0105EN     3.0\n",
       "1     1609720   CNSC02EN     2.0\n",
       "2     1347188   CO0301EN     3.0\n",
       "3      755067   ML0103EN     3.0\n",
       "4      538595   BD0115EN     3.0\n",
       "...       ...        ...     ...\n",
       "9397  1385217   EE0101EN     3.0\n",
       "9398  1864644   DA0101EN     3.0\n",
       "9399   435858  TMP0105EN     3.0\n",
       "9400  1888188   DB0101EN     3.0\n",
       "9401   708518   RP0101EN     3.0\n",
       "\n",
       "[9402 rows x 3 columns]>"
      ]
     },
     "execution_count": 35,
     "metadata": {},
     "output_type": "execute_result"
    }
   ],
   "source": [
    "rs_content_test.info"
   ]
  },
  {
   "cell_type": "code",
   "execution_count": 12,
   "metadata": {},
   "outputs": [
    {
     "name": "stdout",
     "output_type": "stream",
     "text": [
      "sim columns:  ['0', '1', '2', '3', '4', '5', '6', '7', '8', '9', '10', '11', '12', '13', '14', '15', '16', '17', '18', '19', '20', '21', '22', '23', '24', '25', '26', '27', '28', '29', '30', '31', '32', '33', '34', '35', '36', '37', '38', '39', '40', '41', '42', '43', '44', '45', '46', '47', '48', '49', '50', '51', '52', '53', '54', '55', '56', '57', '58', '59', '60', '61', '62', '63', '64', '65', '66', '67', '68', '69', '70', '71', '72', '73', '74', '75', '76', '77', '78', '79', '80', '81', '82', '83', '84', '85', '86', '87', '88', '89', '90', '91', '92', '93', '94', '95', '96', '97', '98', '99', '100', '101', '102', '103', '104', '105', '106', '107', '108', '109', '110', '111', '112', '113', '114', '115', '116', '117', '118', '119', '120', '121', '122', '123', '124', '125', '126', '127', '128', '129', '130', '131', '132', '133', '134', '135', '136', '137', '138', '139', '140', '141', '142', '143', '144', '145', '146', '147', '148', '149', '150', '151', '152', '153', '154', '155', '156', '157', '158', '159', '160', '161', '162', '163', '164', '165', '166', '167', '168', '169', '170', '171', '172', '173', '174', '175', '176', '177', '178', '179', '180', '181', '182', '183', '184', '185', '186', '187', '188', '189', '190', '191', '192', '193', '194', '195', '196', '197', '198', '199', '200', '201', '202', '203', '204', '205', '206', '207', '208', '209', '210', '211', '212', '213', '214', '215', '216', '217', '218', '219', '220', '221', '222', '223', '224', '225', '226', '227', '228', '229', '230', '231', '232', '233', '234', '235', '236', '237', '238', '239', '240', '241', '242', '243', '244', '245', '246', '247', '248', '249', '250', '251', '252', '253', '254', '255', '256', '257', '258', '259', '260', '261', '262', '263', '264', '265', '266', '267', '268', '269', '270', '271', '272', '273', '274', '275', '276', '277', '278', '279', '280', '281', '282', '283', '284', '285', '286', '287', '288', '289', '290', '291', '292', '293', '294', '295', '296', '297', '298', '299', '300', '301', '302', '303', '304', '305', '306']\n"
     ]
    }
   ],
   "source": [
    "#sim\n",
    "sim = pd.read_csv('sim.csv')\n",
    "sim_columns = list(sim.columns)\n",
    "print(\"sim columns: \", sim_columns)"
   ]
  },
  {
   "cell_type": "code",
   "execution_count": 21,
   "metadata": {},
   "outputs": [
    {
     "name": "stdout",
     "output_type": "stream",
     "text": [
      "user_embeddings columns:  ['user', 'UFeature0', 'UFeature1', 'UFeature2', 'UFeature3', 'UFeature4', 'UFeature5', 'UFeature6', 'UFeature7', 'UFeature8', 'UFeature9', 'UFeature10', 'UFeature11', 'UFeature12', 'UFeature13', 'UFeature14', 'UFeature15']\n",
      "<class 'pandas.core.frame.DataFrame'>\n",
      "RangeIndex: 33901 entries, 0 to 33900\n",
      "Data columns (total 17 columns):\n",
      " #   Column      Non-Null Count  Dtype  \n",
      "---  ------      --------------  -----  \n",
      " 0   user        33901 non-null  int64  \n",
      " 1   UFeature0   33901 non-null  float64\n",
      " 2   UFeature1   33901 non-null  float64\n",
      " 3   UFeature2   33901 non-null  float64\n",
      " 4   UFeature3   33901 non-null  float64\n",
      " 5   UFeature4   33901 non-null  float64\n",
      " 6   UFeature5   33901 non-null  float64\n",
      " 7   UFeature6   33901 non-null  float64\n",
      " 8   UFeature7   33901 non-null  float64\n",
      " 9   UFeature8   33901 non-null  float64\n",
      " 10  UFeature9   33901 non-null  float64\n",
      " 11  UFeature10  33901 non-null  float64\n",
      " 12  UFeature11  33901 non-null  float64\n",
      " 13  UFeature12  33901 non-null  float64\n",
      " 14  UFeature13  33901 non-null  float64\n",
      " 15  UFeature14  33901 non-null  float64\n",
      " 16  UFeature15  33901 non-null  float64\n",
      "dtypes: float64(16), int64(1)\n",
      "memory usage: 4.4 MB\n",
      "None\n"
     ]
    }
   ],
   "source": [
    "#user_embeddings\n",
    "user_embeddings = pd.read_csv('user_embeddings.csv')\n",
    "user_embeddings_columns = list(user_embeddings.columns)\n",
    "print(\"user_embeddings columns: \", user_embeddings_columns)\n",
    "print(user_embeddings.info())"
   ]
  },
  {
   "cell_type": "code",
   "execution_count": 22,
   "metadata": {},
   "outputs": [
    {
     "data": {
      "text/html": [
       "<div>\n",
       "<style scoped>\n",
       "    .dataframe tbody tr th:only-of-type {\n",
       "        vertical-align: middle;\n",
       "    }\n",
       "\n",
       "    .dataframe tbody tr th {\n",
       "        vertical-align: top;\n",
       "    }\n",
       "\n",
       "    .dataframe thead th {\n",
       "        text-align: right;\n",
       "    }\n",
       "</style>\n",
       "<table border=\"1\" class=\"dataframe\">\n",
       "  <thead>\n",
       "    <tr style=\"text-align: right;\">\n",
       "      <th></th>\n",
       "      <th>user</th>\n",
       "      <th>UFeature0</th>\n",
       "      <th>UFeature1</th>\n",
       "      <th>UFeature2</th>\n",
       "      <th>UFeature3</th>\n",
       "      <th>UFeature4</th>\n",
       "      <th>UFeature5</th>\n",
       "      <th>UFeature6</th>\n",
       "      <th>UFeature7</th>\n",
       "      <th>UFeature8</th>\n",
       "      <th>UFeature9</th>\n",
       "      <th>UFeature10</th>\n",
       "      <th>UFeature11</th>\n",
       "      <th>UFeature12</th>\n",
       "      <th>UFeature13</th>\n",
       "      <th>UFeature14</th>\n",
       "      <th>UFeature15</th>\n",
       "    </tr>\n",
       "  </thead>\n",
       "  <tbody>\n",
       "    <tr>\n",
       "      <th>0</th>\n",
       "      <td>1889878</td>\n",
       "      <td>0.080721</td>\n",
       "      <td>-0.129561</td>\n",
       "      <td>0.087998</td>\n",
       "      <td>0.030231</td>\n",
       "      <td>0.082691</td>\n",
       "      <td>-0.004176</td>\n",
       "      <td>-0.003480</td>\n",
       "      <td>0.091464</td>\n",
       "      <td>-0.040247</td>\n",
       "      <td>0.018958</td>\n",
       "      <td>-0.153328</td>\n",
       "      <td>-0.090143</td>\n",
       "      <td>0.082830</td>\n",
       "      <td>-0.058721</td>\n",
       "      <td>0.057929</td>\n",
       "      <td>-0.001472</td>\n",
       "    </tr>\n",
       "    <tr>\n",
       "      <th>1</th>\n",
       "      <td>1342067</td>\n",
       "      <td>0.068047</td>\n",
       "      <td>-0.112781</td>\n",
       "      <td>0.045208</td>\n",
       "      <td>-0.007570</td>\n",
       "      <td>-0.038382</td>\n",
       "      <td>0.068037</td>\n",
       "      <td>0.114949</td>\n",
       "      <td>0.104128</td>\n",
       "      <td>-0.034401</td>\n",
       "      <td>0.004011</td>\n",
       "      <td>0.064832</td>\n",
       "      <td>0.165857</td>\n",
       "      <td>-0.004384</td>\n",
       "      <td>0.053257</td>\n",
       "      <td>0.014308</td>\n",
       "      <td>0.056684</td>\n",
       "    </tr>\n",
       "    <tr>\n",
       "      <th>2</th>\n",
       "      <td>1990814</td>\n",
       "      <td>0.124623</td>\n",
       "      <td>0.012910</td>\n",
       "      <td>-0.072627</td>\n",
       "      <td>0.049935</td>\n",
       "      <td>0.020158</td>\n",
       "      <td>0.133306</td>\n",
       "      <td>-0.035366</td>\n",
       "      <td>-0.156026</td>\n",
       "      <td>0.039269</td>\n",
       "      <td>0.042195</td>\n",
       "      <td>0.014695</td>\n",
       "      <td>-0.115989</td>\n",
       "      <td>0.031158</td>\n",
       "      <td>0.102021</td>\n",
       "      <td>-0.020601</td>\n",
       "      <td>0.116488</td>\n",
       "    </tr>\n",
       "    <tr>\n",
       "      <th>3</th>\n",
       "      <td>380098</td>\n",
       "      <td>-0.034870</td>\n",
       "      <td>0.000715</td>\n",
       "      <td>0.077406</td>\n",
       "      <td>0.070311</td>\n",
       "      <td>-0.043007</td>\n",
       "      <td>-0.035446</td>\n",
       "      <td>0.032846</td>\n",
       "      <td>-0.060944</td>\n",
       "      <td>0.112384</td>\n",
       "      <td>0.002114</td>\n",
       "      <td>0.090660</td>\n",
       "      <td>-0.068545</td>\n",
       "      <td>0.008967</td>\n",
       "      <td>0.063962</td>\n",
       "      <td>0.052347</td>\n",
       "      <td>0.018072</td>\n",
       "    </tr>\n",
       "    <tr>\n",
       "      <th>4</th>\n",
       "      <td>779563</td>\n",
       "      <td>0.106414</td>\n",
       "      <td>-0.001887</td>\n",
       "      <td>-0.017211</td>\n",
       "      <td>-0.042277</td>\n",
       "      <td>-0.074953</td>\n",
       "      <td>-0.056732</td>\n",
       "      <td>0.074610</td>\n",
       "      <td>-0.019367</td>\n",
       "      <td>-0.031341</td>\n",
       "      <td>0.064896</td>\n",
       "      <td>-0.048158</td>\n",
       "      <td>-0.047309</td>\n",
       "      <td>-0.007544</td>\n",
       "      <td>0.010474</td>\n",
       "      <td>-0.032287</td>\n",
       "      <td>-0.083983</td>\n",
       "    </tr>\n",
       "    <tr>\n",
       "      <th>...</th>\n",
       "      <td>...</td>\n",
       "      <td>...</td>\n",
       "      <td>...</td>\n",
       "      <td>...</td>\n",
       "      <td>...</td>\n",
       "      <td>...</td>\n",
       "      <td>...</td>\n",
       "      <td>...</td>\n",
       "      <td>...</td>\n",
       "      <td>...</td>\n",
       "      <td>...</td>\n",
       "      <td>...</td>\n",
       "      <td>...</td>\n",
       "      <td>...</td>\n",
       "      <td>...</td>\n",
       "      <td>...</td>\n",
       "      <td>...</td>\n",
       "    </tr>\n",
       "    <tr>\n",
       "      <th>33896</th>\n",
       "      <td>1525198</td>\n",
       "      <td>0.030928</td>\n",
       "      <td>0.023841</td>\n",
       "      <td>-0.043546</td>\n",
       "      <td>0.007947</td>\n",
       "      <td>0.042259</td>\n",
       "      <td>-0.033503</td>\n",
       "      <td>-0.031111</td>\n",
       "      <td>0.036865</td>\n",
       "      <td>-0.027394</td>\n",
       "      <td>-0.014666</td>\n",
       "      <td>0.027467</td>\n",
       "      <td>0.056807</td>\n",
       "      <td>0.035407</td>\n",
       "      <td>0.016624</td>\n",
       "      <td>0.003942</td>\n",
       "      <td>-0.042969</td>\n",
       "    </tr>\n",
       "    <tr>\n",
       "      <th>33897</th>\n",
       "      <td>1047293</td>\n",
       "      <td>-0.025774</td>\n",
       "      <td>-0.011417</td>\n",
       "      <td>0.002209</td>\n",
       "      <td>-0.020827</td>\n",
       "      <td>-0.002285</td>\n",
       "      <td>-0.007308</td>\n",
       "      <td>0.023367</td>\n",
       "      <td>-0.006890</td>\n",
       "      <td>-0.022531</td>\n",
       "      <td>0.014554</td>\n",
       "      <td>0.031916</td>\n",
       "      <td>-0.028916</td>\n",
       "      <td>0.031161</td>\n",
       "      <td>-0.031941</td>\n",
       "      <td>0.012866</td>\n",
       "      <td>0.016397</td>\n",
       "    </tr>\n",
       "    <tr>\n",
       "      <th>33898</th>\n",
       "      <td>1653442</td>\n",
       "      <td>0.029938</td>\n",
       "      <td>-0.038859</td>\n",
       "      <td>-0.014539</td>\n",
       "      <td>-0.046586</td>\n",
       "      <td>0.014946</td>\n",
       "      <td>0.017971</td>\n",
       "      <td>0.049848</td>\n",
       "      <td>0.007205</td>\n",
       "      <td>0.072723</td>\n",
       "      <td>-0.072453</td>\n",
       "      <td>-0.064114</td>\n",
       "      <td>0.006508</td>\n",
       "      <td>0.040719</td>\n",
       "      <td>-0.055399</td>\n",
       "      <td>0.007838</td>\n",
       "      <td>-0.050092</td>\n",
       "    </tr>\n",
       "    <tr>\n",
       "      <th>33899</th>\n",
       "      <td>946438</td>\n",
       "      <td>0.031057</td>\n",
       "      <td>0.031040</td>\n",
       "      <td>0.015897</td>\n",
       "      <td>0.024325</td>\n",
       "      <td>0.036805</td>\n",
       "      <td>0.001677</td>\n",
       "      <td>-0.029462</td>\n",
       "      <td>-0.033028</td>\n",
       "      <td>0.047495</td>\n",
       "      <td>0.040393</td>\n",
       "      <td>-0.034266</td>\n",
       "      <td>0.035967</td>\n",
       "      <td>-0.033399</td>\n",
       "      <td>0.037442</td>\n",
       "      <td>0.039109</td>\n",
       "      <td>-0.031742</td>\n",
       "    </tr>\n",
       "    <tr>\n",
       "      <th>33900</th>\n",
       "      <td>711047</td>\n",
       "      <td>0.020679</td>\n",
       "      <td>-0.020455</td>\n",
       "      <td>-0.027815</td>\n",
       "      <td>0.026966</td>\n",
       "      <td>-0.056719</td>\n",
       "      <td>0.039016</td>\n",
       "      <td>-0.003032</td>\n",
       "      <td>-0.030065</td>\n",
       "      <td>0.025525</td>\n",
       "      <td>-0.014463</td>\n",
       "      <td>0.049404</td>\n",
       "      <td>-0.023288</td>\n",
       "      <td>0.010950</td>\n",
       "      <td>0.027079</td>\n",
       "      <td>-0.002459</td>\n",
       "      <td>0.003503</td>\n",
       "    </tr>\n",
       "  </tbody>\n",
       "</table>\n",
       "<p>33901 rows × 17 columns</p>\n",
       "</div>"
      ],
      "text/plain": [
       "          user  UFeature0  UFeature1  UFeature2  UFeature3  UFeature4  \\\n",
       "0      1889878   0.080721  -0.129561   0.087998   0.030231   0.082691   \n",
       "1      1342067   0.068047  -0.112781   0.045208  -0.007570  -0.038382   \n",
       "2      1990814   0.124623   0.012910  -0.072627   0.049935   0.020158   \n",
       "3       380098  -0.034870   0.000715   0.077406   0.070311  -0.043007   \n",
       "4       779563   0.106414  -0.001887  -0.017211  -0.042277  -0.074953   \n",
       "...        ...        ...        ...        ...        ...        ...   \n",
       "33896  1525198   0.030928   0.023841  -0.043546   0.007947   0.042259   \n",
       "33897  1047293  -0.025774  -0.011417   0.002209  -0.020827  -0.002285   \n",
       "33898  1653442   0.029938  -0.038859  -0.014539  -0.046586   0.014946   \n",
       "33899   946438   0.031057   0.031040   0.015897   0.024325   0.036805   \n",
       "33900   711047   0.020679  -0.020455  -0.027815   0.026966  -0.056719   \n",
       "\n",
       "       UFeature5  UFeature6  UFeature7  UFeature8  UFeature9  UFeature10  \\\n",
       "0      -0.004176  -0.003480   0.091464  -0.040247   0.018958   -0.153328   \n",
       "1       0.068037   0.114949   0.104128  -0.034401   0.004011    0.064832   \n",
       "2       0.133306  -0.035366  -0.156026   0.039269   0.042195    0.014695   \n",
       "3      -0.035446   0.032846  -0.060944   0.112384   0.002114    0.090660   \n",
       "4      -0.056732   0.074610  -0.019367  -0.031341   0.064896   -0.048158   \n",
       "...          ...        ...        ...        ...        ...         ...   \n",
       "33896  -0.033503  -0.031111   0.036865  -0.027394  -0.014666    0.027467   \n",
       "33897  -0.007308   0.023367  -0.006890  -0.022531   0.014554    0.031916   \n",
       "33898   0.017971   0.049848   0.007205   0.072723  -0.072453   -0.064114   \n",
       "33899   0.001677  -0.029462  -0.033028   0.047495   0.040393   -0.034266   \n",
       "33900   0.039016  -0.003032  -0.030065   0.025525  -0.014463    0.049404   \n",
       "\n",
       "       UFeature11  UFeature12  UFeature13  UFeature14  UFeature15  \n",
       "0       -0.090143    0.082830   -0.058721    0.057929   -0.001472  \n",
       "1        0.165857   -0.004384    0.053257    0.014308    0.056684  \n",
       "2       -0.115989    0.031158    0.102021   -0.020601    0.116488  \n",
       "3       -0.068545    0.008967    0.063962    0.052347    0.018072  \n",
       "4       -0.047309   -0.007544    0.010474   -0.032287   -0.083983  \n",
       "...           ...         ...         ...         ...         ...  \n",
       "33896    0.056807    0.035407    0.016624    0.003942   -0.042969  \n",
       "33897   -0.028916    0.031161   -0.031941    0.012866    0.016397  \n",
       "33898    0.006508    0.040719   -0.055399    0.007838   -0.050092  \n",
       "33899    0.035967   -0.033399    0.037442    0.039109   -0.031742  \n",
       "33900   -0.023288    0.010950    0.027079   -0.002459    0.003503  \n",
       "\n",
       "[33901 rows x 17 columns]"
      ]
     },
     "execution_count": 22,
     "metadata": {},
     "output_type": "execute_result"
    }
   ],
   "source": [
    "user_embeddings"
   ]
  },
  {
   "cell_type": "code",
   "execution_count": 14,
   "metadata": {},
   "outputs": [
    {
     "name": "stdout",
     "output_type": "stream",
     "text": [
      "17\n"
     ]
    }
   ],
   "source": [
    "print(len(user_embeddings.columns))"
   ]
  },
  {
   "cell_type": "code",
   "execution_count": 15,
   "metadata": {},
   "outputs": [
    {
     "name": "stdout",
     "output_type": "stream",
     "text": [
      "user_profile columns:  ['user', 'Database', 'Python', 'CloudComputing', 'DataAnalysis', 'Containers', 'MachineLearning', 'ComputerVision', 'DataScience', 'BigData', 'Chatbot', 'R', 'BackendDev', 'FrontendDev', 'Blockchain']\n"
     ]
    }
   ],
   "source": [
    "#user_profile\n",
    "user_profile = pd.read_csv('user_profile.csv')\n",
    "user_profile_columns = list(user_profile.columns)\n",
    "print(\"user_profile columns: \", user_profile_columns)"
   ]
  },
  {
   "cell_type": "code",
   "execution_count": 32,
   "metadata": {},
   "outputs": [
    {
     "data": {
      "text/plain": [
       "user                 int64\n",
       "Database           float64\n",
       "Python             float64\n",
       "CloudComputing     float64\n",
       "DataAnalysis       float64\n",
       "Containers         float64\n",
       "MachineLearning    float64\n",
       "ComputerVision     float64\n",
       "DataScience        float64\n",
       "BigData            float64\n",
       "Chatbot            float64\n",
       "R                  float64\n",
       "BackendDev         float64\n",
       "FrontendDev        float64\n",
       "Blockchain         float64\n",
       "dtype: object"
      ]
     },
     "execution_count": 32,
     "metadata": {},
     "output_type": "execute_result"
    }
   ],
   "source": [
    "user_profile.dtypes"
   ]
  },
  {
   "cell_type": "code",
   "execution_count": 16,
   "metadata": {},
   "outputs": [],
   "source": [
    "# Supervised (KNN) IBM capstone project merged dataframes\n",
    "\n",
    "#None only used : course_ratings.csv"
   ]
  },
  {
   "cell_type": "code",
   "execution_count": 17,
   "metadata": {},
   "outputs": [],
   "source": [
    "# Supervised (Neural Network) IBM capstone project\n",
    "\n",
    "# Merged rating df with user emb\n",
    "# Merged merged df with item emb"
   ]
  }
 ],
 "metadata": {
  "kernelspec": {
   "display_name": "Python 3",
   "language": "python",
   "name": "python3"
  },
  "language_info": {
   "codemirror_mode": {
    "name": "ipython",
    "version": 3
   },
   "file_extension": ".py",
   "mimetype": "text/x-python",
   "name": "python",
   "nbconvert_exporter": "python",
   "pygments_lexer": "ipython3",
   "version": "3.10.10"
  },
  "orig_nbformat": 4,
  "vscode": {
   "interpreter": {
    "hash": "c31c2c93585b55e010b9381178aeeb9bb3aa7fa708fada384ae012c2fbd9b3c8"
   }
  }
 },
 "nbformat": 4,
 "nbformat_minor": 2
}
