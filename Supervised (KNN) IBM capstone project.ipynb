{
 "cells": [
  {
   "attachments": {},
   "cell_type": "markdown",
   "id": "5c1066c8",
   "metadata": {},
   "source": [
    "# Supervised (KNN) IBM capstone project \n",
    "\n",
    "## Notebook Summary:\n",
    "\n",
    "This notebook describes how the KNN algorithm can be used to generate course recommendations. The main dataset used is 'course_ratings.csv'\n",
    "\n",
    "The classification model operates by:\n",
    "- Reading the required csv file(s)\n",
    "- Defining a function to compute the silhouette score\n",
    "- Defining a function that uses the user's profile vector and the vectors of unknown courses to generate recommendation scores for each test user in the test user ids (i.e., courses that the user has not yet enrolled in)\n",
    "- Executing the functions\n",
    "- Generating the top 10 recommended courses, the average number of course recommendations per user, and performance metrics of the model itself.\n",
    "- A flowchart that outlines the model is included below."
   ]
  },
  {
   "cell_type": "code",
   "execution_count": 1,
   "id": "37932991-e592-4091-8d38-c41b4bd40b19",
   "metadata": {},
   "outputs": [],
   "source": [
    "from surprise import KNNBasic\n",
    "from surprise import Dataset, Reader\n",
    "from surprise.model_selection import train_test_split\n",
    "from surprise import accuracy\n",
    "from sklearn.model_selection import GridSearchCV\n",
    "from sklearn.metrics import f1_score\n",
    "from collections import defaultdict\n",
    "from surprise.model_selection import KFold\n",
    "import numpy as np\n",
    "import pandas as pd\n"
   ]
  },
  {
   "cell_type": "code",
   "execution_count": 2,
   "id": "fe59c8a6-71ca-4abe-8f0f-99300ad3bead",
   "metadata": {},
   "outputs": [],
   "source": [
    "# Load data\n",
    "rating_df = pd.read_csv('ratings.csv')\n",
    "\n",
    "# Use surprise library\n",
    "# Prepare data\n",
    "reader = Reader(\n",
    "        line_format='user item rating', sep=',', skip_lines=1, rating_scale=(2, 3))\n",
    "course_dataset = Dataset.load_from_file(\"course_ratings.csv\", reader=reader)\n",
    "\n",
    "# Use surprise library\n",
    "# Test train split\n",
    "trainset, testset = train_test_split(course_dataset, test_size=.25)"
   ]
  },
  {
   "cell_type": "code",
   "execution_count": 4,
   "id": "0e2cf018",
   "metadata": {},
   "outputs": [],
   "source": [
    "def precision_recall_at_k(predictions, k=10, threshold=2.5):\n",
    "    \"\"\"\n",
    "    Return precision and recall at k metrics for each user\n",
    "    \"\"\"\n",
    "    user_est_true = defaultdict(list)\n",
    "    # Map the predictions to each user\n",
    "    for uid, _, true_r, est, _ in predictions:\n",
    "        user_est_true[uid].append((est, true_r))\n",
    "\n",
    "    precisions = {}\n",
    "    recalls = {}\n",
    "    for uid, user_ratings in user_est_true.items():\n",
    "        # Sort user ratings by estimated value\n",
    "        user_ratings.sort(key=lambda x: x[0], reverse=True)\n",
    "        # Number of relevant items\n",
    "        n_rel = sum(true_r >= threshold for _, true_r in user_ratings)\n",
    "        # Number of recommended items in top k\n",
    "        n_rec_k = sum(est >= threshold for est, _ in user_ratings[:k])\n",
    "        # Number of relevant and recommended items in top k\n",
    "        n_rel_and_rec_k = sum(\n",
    "            true_r >= threshold and est >= threshold\n",
    "            for est, true_r in user_ratings[:k]\n",
    "        )\n",
    "        # Precision@K: Proportion of recommended items that are relevant\n",
    "        # When n_rec_k is 0, Precision is undefined. We here set it to 0.\n",
    "        precisions[uid] = (\n",
    "            n_rel_and_rec_k / n_rec_k if n_rec_k != 0 else 0\n",
    "        )\n",
    "        # Recall@K: Proportion of relevant items that are recommended\n",
    "        # When n_rel is 0, Recall is undefined. We here set it to 0.\n",
    "        recalls[uid] = n_rel_and_rec_k / n_rel if n_rel != 0 else 0\n",
    "\n",
    "    return precisions, recalls\n"
   ]
  },
  {
   "cell_type": "code",
   "execution_count": 5,
   "id": "422f37fe-42b2-49d6-829e-d23c307063e9",
   "metadata": {},
   "outputs": [],
   "source": [
    "#Get average precision and recalls\n",
    "def average_dicts(dictionary):\n",
    "    sum = 0\n",
    "    count = 0\n",
    "    for value in dictionary.values():\n",
    "        sum += value\n",
    "        count += 1\n",
    "    return sum / count\n",
    "\n"
   ]
  },
  {
   "cell_type": "code",
   "execution_count": 6,
   "id": "5b7d3225-ef84-4532-8621-c504187e870a",
   "metadata": {},
   "outputs": [
    {
     "name": "stdout",
     "output_type": "stream",
     "text": [
      "Computing the msd similarity matrix...\n",
      "Done computing similarity matrix.\n"
     ]
    }
   ],
   "source": [
    "# Create the KNNBasic model with the optimal value of k\n",
    "knn_1 = KNNBasic(k=10, sim_options = {'name': 'msd'})\n",
    "\n",
    "# Fit the KNNBasic model to the entire training set\n",
    "knn_1.fit(trainset)\n",
    "\n",
    "# Predict ratings for the test set\n",
    "predictions_1 = knn_1.test(testset)\n",
    "\n",
    "precisions, recalls = precision_recall_at_k(predictions = predictions_1, k=10, threshold=2.5)\n",
    "\n",
    "# Get average Precision and recalls\n",
    "precision_average = average_dicts(precisions)\n",
    "recalls_average = average_dicts(recalls)\n",
    "\n",
    "\n",
    "#f1 value\n",
    "f1_model_1 = 2 * (precision_average * recalls_average) / (precision_average + recalls_average)\n"
   ]
  },
  {
   "cell_type": "code",
   "execution_count": 11,
   "id": "dcfd0f10",
   "metadata": {},
   "outputs": [],
   "source": [
    "del knn_1, predictions_1\n",
    "del recalls_average\n",
    "del precision_average"
   ]
  },
  {
   "cell_type": "code",
   "execution_count": 7,
   "id": "1a939963-6163-4945-979b-abedf3d3b496",
   "metadata": {},
   "outputs": [
    {
     "name": "stdout",
     "output_type": "stream",
     "text": [
      "Computing the cosine similarity matrix...\n",
      "Done computing similarity matrix.\n"
     ]
    }
   ],
   "source": [
    "## Model 2 -> cosine\n",
    "\n",
    "\n",
    "# Create the KNNBasic model with the optimal value of k\n",
    "knn_2 = KNNBasic(k=10, sim_options = {'name': 'cosine'})\n",
    "\n",
    "# Fit the KNNBasic model to the entire training set\n",
    "knn_2.fit(trainset)\n",
    "\n",
    "# Predict ratings for the test set\n",
    "predictions_2 = knn_2.test(testset)\n",
    "\n",
    "#Precision and recall\n",
    "precisions, recalls = precision_recall_at_k(predictions = predictions_2, k=10, threshold=2.5)\n",
    "\n",
    "# Get average Precision and recalls\n",
    "precision_average = average_dicts(precisions)\n",
    "recalls_average = average_dicts(recalls)\n",
    "\n",
    "#f1_model\n",
    "f1_model_2 = 2 * (precision_average * recalls_average) / (precision_average + recalls_average)"
   ]
  },
  {
   "cell_type": "code",
   "execution_count": 12,
   "id": "26a0cf21",
   "metadata": {},
   "outputs": [],
   "source": [
    "del knn_2, predictions_2\n",
    "del recalls_average\n",
    "del precision_average"
   ]
  },
  {
   "cell_type": "code",
   "execution_count": 15,
   "id": "6f110497-1703-49ac-a52c-0c8382129b6e",
   "metadata": {},
   "outputs": [
    {
     "name": "stdout",
     "output_type": "stream",
     "text": [
      "Computing the pearson similarity matrix...\n",
      "Done computing similarity matrix.\n"
     ]
    }
   ],
   "source": [
    "# Create the KNNBasic model with the optimal value of k\n",
    "knn_3 = KNNBasic(k=10, sim_options = {'name': 'pearson'})\n",
    "\n",
    "# Fit the KNNBasic model to the entire training set\n",
    "knn_3.fit(trainset)\n",
    "\n",
    "# Predict ratings for the test set\n",
    "predictions_3 = knn_3.test(testset)\n",
    "\n",
    "#Precision and recall\n",
    "precisions, recalls = precision_recall_at_k(predictions = predictions_3, k=10, threshold=2.5)\n",
    "\n",
    "# Get average Precision and recalls\n",
    "precision_average = average_dicts(precisions)\n",
    "recalls_average = average_dicts(recalls)\n",
    "\n",
    "#f1_model\n",
    "f1_model_3 = 2 * (precision_average * recalls_average) / (precision_average + recalls_average)"
   ]
  },
  {
   "cell_type": "code",
   "execution_count": 16,
   "id": "ac146d35-607c-4276-9831-f2425ee4592f",
   "metadata": {},
   "outputs": [
    {
     "name": "stdout",
     "output_type": "stream",
     "text": [
      "0.8997113214748622\n",
      "0.8997113214748622\n"
     ]
    }
   ],
   "source": [
    "import matplotlib.pyplot as plt\n",
    "import seaborn as sns\n",
    "f1_values = [f1_model_1, f1_model_2, f1_model_3]\n",
    "\n",
    "maximum = max(f1_values)\n",
    "position = f1_values.index(maximum)\n",
    "print(maximum)\n",
    "print(f1_values[position])\n"
   ]
  },
  {
   "cell_type": "code",
   "execution_count": 17,
   "id": "4423b0f2-7700-4250-ac0a-732d7c5970b0",
   "metadata": {},
   "outputs": [
    {
     "name": "stdout",
     "output_type": "stream",
     "text": [
      "0.8991979973335611\n",
      "0.8997113214748622\n"
     ]
    }
   ],
   "source": [
    "print(min(f1_values[0], f1_values[1], f1_values[2]))\n",
    "print(max(f1_values[0], f1_values[1], f1_values[2]))\n",
    "\n"
   ]
  },
  {
   "cell_type": "code",
   "execution_count": 21,
   "id": "0ea4daa9-d1ed-4b01-8064-030652d459b5",
   "metadata": {},
   "outputs": [
    {
     "data": {
      "text/plain": [
       "[]"
      ]
     },
     "execution_count": 21,
     "metadata": {},
     "output_type": "execute_result"
    },
    {
     "data": {
      "image/png": "[encoded data removed]",
      "text/plain": [
       "<Figure size 640x480 with 1 Axes>"
      ]
     },
     "metadata": {},
     "output_type": "display_data"
    }
   ],
   "source": [
    "#F1 keys\n",
    "f1_names = [\"f1_model_1\", \"f1_model_2\", \"f1_model_3\"]\n",
    "# create a dataframe with the values and names\n",
    "df_f1 = pd.DataFrame({'f1_score (higher the better)': f1_values, 'f1_model': f1_names})\n",
    "\n",
    "# use seaborn to plot the bar chart\n",
    "sns.barplot(x='f1_model', y='f1_score (higher the better)', data=df_f1)\n",
    "plt.ylim(min(f1_values[0], f1_values[1], f1_values[2]), max(f1_values[0], f1_values[1], f1_values[2]))\n",
    "plt.title('f1_values')\n",
    "plt.plot()\n"
   ]
  },
  {
   "cell_type": "code",
   "execution_count": null,
   "id": "52458fd9-7fc4-4820-bd81-1125a02815fe",
   "metadata": {},
   "outputs": [
    {
     "data": {
      "text/plain": [
       "[0.9040273617866051, 0.9040267862122666, 0.9040308861197852]"
      ]
     },
     "execution_count": 47,
     "metadata": {},
     "output_type": "execute_result"
    }
   ],
   "source": [
    "f1_values"
   ]
  },
  {
   "cell_type": "code",
   "execution_count": null,
   "id": "c24c50a7-34b1-4c67-8e76-0668d4fb58dd",
   "metadata": {},
   "outputs": [],
   "source": []
  }
 ],
 "metadata": {
  "kernelspec": {
   "display_name": "Python 3",
   "language": "python",
   "name": "python3"
  },
  "language_info": {
   "codemirror_mode": {
    "name": "ipython",
    "version": 3
   },
   "file_extension": ".py",
   "mimetype": "text/x-python",
   "name": "python",
   "nbconvert_exporter": "python",
   "pygments_lexer": "ipython3",
   "version": "3.10.9"
  },
  "vscode": {
   "interpreter": {
    "hash": "c31c2c93585b55e010b9381178aeeb9bb3aa7fa708fada384ae012c2fbd9b3c8"
   }
  }
 },
 "nbformat": 4,
 "nbformat_minor": 5
}
