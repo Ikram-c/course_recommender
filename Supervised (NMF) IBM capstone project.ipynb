{
 "cells": [
  {
   "cell_type": "code",
   "execution_count": 1,
   "id": "c0d3eac5-7403-4d39-80a6-b03981800015",
   "metadata": {},
   "outputs": [],
   "source": [
    "from surprise import NMF\n",
    "from surprise import Dataset, Reader\n",
    "from surprise.model_selection import train_test_split\n",
    "from surprise import accuracy\n",
    "import numpy as np\n",
    "import pandas as pd\n",
    "from collections import defaultdict\n",
    "\n",
    "# Surpress any warnings:\n",
    "def warn(*args, **kwargs):\n",
    "    pass\n",
    "import warnings\n",
    "warnings.warn = warn\n",
    "import string"
   ]
  },
  {
   "cell_type": "code",
   "execution_count": 2,
   "id": "dd567e2d-a1c7-4681-9f20-7ce5de47bf91",
   "metadata": {},
   "outputs": [],
   "source": [
    "# Read the course rating dataset with columns user item rating\n",
    "reader = Reader(\n",
    "        line_format='user item rating', sep=',', skip_lines=1, rating_scale=(2, 3))\n",
    "\n",
    "coruse_dataset = Dataset.load_from_file(\"course_ratings.csv\", reader=reader)"
   ]
  },
  {
   "cell_type": "code",
   "execution_count": 3,
   "id": "ea0472e8-6067-4947-9644-31976b7e8404",
   "metadata": {},
   "outputs": [],
   "source": [
    "def precision_recall_at_k(predictions, k=10, threshold=2.5):\n",
    "    \"\"\"Return precision and recall at k metrics for each user\"\"\"\n",
    "\n",
    "    # First map the predictions to each user.\n",
    "    user_est_true = defaultdict(list)\n",
    "    for uid, _, true_r, est, _ in predictions:\n",
    "        user_est_true[uid].append((est, true_r))\n",
    "\n",
    "    precisions = dict()\n",
    "    recalls = dict()\n",
    "    for uid, user_ratings in user_est_true.items():\n",
    "\n",
    "        # Sort user ratings by estimated value\n",
    "        user_ratings.sort(key=lambda x: x[0], reverse=True)\n",
    "\n",
    "        # Number of relevant items\n",
    "        n_rel = sum((true_r >= threshold) for (_, true_r) in user_ratings)\n",
    "\n",
    "        # Number of recommended items in top k\n",
    "        n_rec_k = sum((est >= threshold) for (est, _) in user_ratings[:k])\n",
    "\n",
    "        # Number of relevant and recommended items in top k\n",
    "        n_rel_and_rec_k = sum(\n",
    "            ((true_r >= threshold) and (est >= threshold))\n",
    "            for (est, true_r) in user_ratings[:k]\n",
    "        )\n",
    "\n",
    "        # Precision@K: Proportion of recommended items that are relevant\n",
    "        # When n_rec_k is 0, Precision is undefined. We here set it to 0.\n",
    "\n",
    "        precisions[uid] = n_rel_and_rec_k / n_rec_k if n_rec_k != 0 else 0\n",
    "\n",
    "        # Recall@K: Proportion of relevant items that are recommended\n",
    "        # When n_rel is 0, Recall is undefined. We here set it to 0.\n",
    "\n",
    "        recalls[uid] = n_rel_and_rec_k / n_rel if n_rel != 0 else 0\n",
    "\n",
    "    return precisions, recalls\n",
    "\n",
    "#Get average precision and recalls\n",
    "def average_dicts(dictionary):\n",
    "    sum = 0\n",
    "    count = 0\n",
    "    for value in dictionary.values():\n",
    "        sum += value\n",
    "        count += 1\n",
    "    return sum / count"
   ]
  },
  {
   "cell_type": "code",
   "execution_count": 4,
   "id": "abb63ea7-2d42-4f12-a750-0c4b02269018",
   "metadata": {},
   "outputs": [],
   "source": [
    "# Split the data into a training set and a test set\n",
    "trainset, testset = train_test_split(coruse_dataset, test_size=.25)\n",
    "\n",
    "# Define the NMF model\n",
    "model_1 = NMF(n_factors=15, n_epochs=50)\n",
    "\n",
    "# Train the model on the training data\n",
    "model_1.fit(trainset)\n",
    "\n",
    "\n",
    "# Classify the items in the test set\n",
    "predictions_1 = model_1.test(testset)\n",
    "\n",
    "#Precisions and recalls\n",
    "precisions, recalls = precision_recall_at_k(predictions = predictions_1, k=10, threshold=2.5)\n",
    "\n",
    "\n",
    "# Get average Precision and recalls\n",
    "precision_average = average_dicts(precisions)\n",
    "recalls_average = average_dicts(recalls)\n",
    "\n",
    "\n",
    "#f1 value\n",
    "f1_model_1 = 2 * (precision_average * recalls_average) / (precision_average + recalls_average)\n"
   ]
  },
  {
   "cell_type": "code",
   "execution_count": 5,
   "id": "8c4fc469-cd67-42ed-892f-ab4d22ebb6b2",
   "metadata": {},
   "outputs": [],
   "source": [
    "# Define the NMF model\n",
    "model_2 = NMF(n_factors=30, n_epochs=100)\n",
    "\n",
    "# Train the model on the training data\n",
    "model_2.fit(trainset)\n",
    "\n",
    "\n",
    "# Classify the items in the test set\n",
    "predictions_2 = model_2.test(testset)\n",
    "\n",
    "#Precisions and recalls\n",
    "precisions, recalls = precision_recall_at_k(predictions = predictions_2, k=10, threshold=2.5)\n",
    "\n",
    "# Get average Precision and recalls\n",
    "precision_average = average_dicts(precisions)\n",
    "recalls_average = average_dicts(recalls)\n",
    "\n",
    "\n",
    "#f1 value\n",
    "f1_model_2 = 2 * (precision_average * recalls_average) / (precision_average + recalls_average)\n"
   ]
  },
  {
   "cell_type": "code",
   "execution_count": 6,
   "id": "423e8cf3-7a54-4424-a3a4-f73ab6ea11ca",
   "metadata": {},
   "outputs": [],
   "source": [
    "# Define the NMF model\n",
    "model_3 = NMF(n_factors=60, n_epochs=200)\n",
    "\n",
    "# Train the model on the training data\n",
    "model_3.fit(trainset)\n",
    "\n",
    "\n",
    "# Classify the items in the test set\n",
    "predictions_3 = model_3.test(testset)\n",
    "\n",
    "#Precisions and recalls\n",
    "precisions, recalls = precision_recall_at_k(predictions = predictions_3, k=10, threshold=2.5)\n",
    "\n",
    "# Get average Precision and recalls\n",
    "precision_average = average_dicts(precisions)\n",
    "recalls_average = average_dicts(recalls)\n",
    "\n",
    "\n",
    "#f1 value\n",
    "f1_model_3 = 2 * (precision_average * recalls_average) / (precision_average + recalls_average)\n"
   ]
  },
  {
   "cell_type": "code",
   "execution_count": 7,
   "id": "648d7b64-aece-4f99-8474-bc8432302658",
   "metadata": {},
   "outputs": [
    {
     "name": "stdout",
     "output_type": "stream",
     "text": [
      "0.8970229575592137\n",
      "0.8969317218295919\n",
      "0.8970229575592137\n"
     ]
    }
   ],
   "source": [
    "f1_values = [f1_model_1, f1_model_2, f1_model_3]\n",
    "\n",
    "maximum = max(f1_values)\n",
    "position = f1_values.index(maximum)\n",
    "minimum = min(f1_values)\n",
    "print(maximum)\n",
    "print(minimum)\n",
    "print(f1_values[position])"
   ]
  },
  {
   "cell_type": "code",
   "execution_count": 12,
   "id": "6428989e-a912-4070-9d16-e171650550a3",
   "metadata": {},
   "outputs": [
    {
     "data": {
      "text/plain": [
       "[]"
      ]
     },
     "execution_count": 12,
     "metadata": {},
     "output_type": "execute_result"
    },
    {
     "data": {
      "image/png": "[encoded data removed]",
      "text/plain": [
       "<Figure size 640x480 with 1 Axes>"
      ]
     },
     "metadata": {},
     "output_type": "display_data"
    }
   ],
   "source": [
    "import matplotlib.pyplot as plt\n",
    "import seaborn as sns\n",
    "f1_names = [\"f1_model_1\", \"f1_model_2\", \"f1_model_3\"]\n",
    "# create a dataframe with the values and names\n",
    "df_f1 = pd.DataFrame({'f1_score (higher the better)': f1_values, 'f1_model': f1_names})\n",
    "\n",
    "# use seaborn to plot the bar chart\n",
    "sns.barplot(x='f1_model', y='f1_score (higher the better)', data=df_f1)\n",
    "plt.ylim(0.89, 0.8998)\n",
    "plt.title('f1_values')\n",
    "plt.plot()"
   ]
  },
  {
   "cell_type": "code",
   "execution_count": null,
   "id": "dd4aa753",
   "metadata": {},
   "outputs": [],
   "source": []
  }
 ],
 "metadata": {
  "kernelspec": {
   "display_name": "Python 3",
   "language": "python",
   "name": "python3"
  },
  "language_info": {
   "codemirror_mode": {
    "name": "ipython",
    "version": 3
   },
   "file_extension": ".py",
   "mimetype": "text/x-python",
   "name": "python",
   "nbconvert_exporter": "python",
   "pygments_lexer": "ipython3",
   "version": "3.10.9"
  },
  "vscode": {
   "interpreter": {
    "hash": "c31c2c93585b55e010b9381178aeeb9bb3aa7fa708fada384ae012c2fbd9b3c8"
   }
  }
 },
 "nbformat": 4,
 "nbformat_minor": 5
}
